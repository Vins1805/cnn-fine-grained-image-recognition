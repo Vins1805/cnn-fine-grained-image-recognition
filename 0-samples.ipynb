{
 "cells": [
  {
   "cell_type": "code",
   "execution_count": 1,
   "metadata": {},
   "outputs": [],
   "source": [
    "import os\n",
    "import numpy as np\n",
    "import cv2\n",
    "import h5py\n",
    "import torch"
   ]
  },
  {
   "cell_type": "code",
   "execution_count": 2,
   "metadata": {},
   "outputs": [],
   "source": [
    "filepath = \"datasets/CUB_200_2011/images/\"\n",
    "folders = os.listdir(filepath)[1:5]\n",
    "output_path = \"samples/cub_data.hdf5\""
   ]
  },
  {
   "cell_type": "code",
   "execution_count": 7,
   "metadata": {
    "scrolled": true
   },
   "outputs": [
    {
     "name": "stdout",
     "output_type": "stream",
     "text": [
      "001.Black_footed_Albatross\n",
      "002.Laysan_Albatross\n",
      "003.Sooty_Albatross\n",
      "004.Groove_billed_Ani\n"
     ]
    }
   ],
   "source": [
    "index = 0\n",
    "with h5py.File(output_path, \"w\") as f:\n",
    "    for label, folder in enumerate(folders):\n",
    "        for file in os.listdir(filepath + folder):\n",
    "            img = cv2.imread(filepath + folder + \"/\" + file) #cv2.IMREAD_GRAYSCALE for grey images\n",
    "            img = torch.tensor(cv2.resize(img, (448, 448))).float()\n",
    "            img = img.permute(2,0,1)\n",
    "            f.create_dataset(f\"{index}/x\", data=img)\n",
    "            f.create_dataset(f\"{index}/y\", data=label)\n",
    "            index += 1\n",
    "        print(folder)"
   ]
  },
  {
   "cell_type": "code",
   "execution_count": 8,
   "metadata": {},
   "outputs": [
    {
     "name": "stdout",
     "output_type": "stream",
     "text": [
      "238\n",
      "<HDF5 group \"/0\" (2 members)>\n",
      "0\n",
      "(3, 448, 448)\n"
     ]
    }
   ],
   "source": [
    "with h5py.File(output_path, 'r') as f:\n",
    "    print(len(f))\n",
    "    print(f[\"0\"])\n",
    "    print(f[\"0\"][\"y\"][()])\n",
    "    print(f[\"0\"][\"x\"][()].shape)"
   ]
  },
  {
   "cell_type": "code",
   "execution_count": null,
   "metadata": {},
   "outputs": [],
   "source": []
  }
 ],
 "metadata": {
  "kernelspec": {
   "display_name": "Python 3",
   "language": "python",
   "name": "python3"
  },
  "language_info": {
   "codemirror_mode": {
    "name": "ipython",
    "version": 3
   },
   "file_extension": ".py",
   "mimetype": "text/x-python",
   "name": "python",
   "nbconvert_exporter": "python",
   "pygments_lexer": "ipython3",
   "version": "3.8.5"
  }
 },
 "nbformat": 4,
 "nbformat_minor": 2
}
