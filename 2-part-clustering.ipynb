{
 "cells": [
  {
   "cell_type": "code",
   "execution_count": 4,
   "metadata": {},
   "outputs": [],
   "source": [
    "import time\n",
    "import torch.optim\n",
    "import torch.nn as nn\n",
    "import torch.nn.functional as F\n",
    "from datasets.dataset import CUBDataset\n",
    "from torch.utils.data import DataLoader\n",
    "from torch.autograd import Variable"
   ]
  },
  {
   "cell_type": "code",
   "execution_count": 2,
   "metadata": {},
   "outputs": [],
   "source": [
    "epoch = 1\n",
    "learning_rate = 1e-3\n",
    "save_part_name = 'models/part.pth'\n",
    "conv_model_name = 'models/resnet.pth'\n"
   ]
  },
  {
   "cell_type": "code",
   "execution_count": 3,
   "metadata": {},
   "outputs": [],
   "source": [
    "trainset = CUBDataset()\n",
    "trainloader = DataLoader(dataset=trainset, batch_size=10, shuffle=True)\n",
    "testset = CUBDataset(is_test = True)\n",
    "testloader = DataLoader(dataset=testset, batch_size=10, shuffle=True)"
   ]
  },
  {
   "cell_type": "code",
   "execution_count": 26,
   "metadata": {},
   "outputs": [],
   "source": [
    "class Part(nn.Module):\n",
    "\n",
    "    def __init__(self):\n",
    "        super(Part, self).__init__()\n",
    "        self.fc1 = nn.Linear(256, 512)\n",
    "        self.fc2 = nn.Linear(512, 256)\n",
    "\n",
    "    def forward(self, x):\n",
    "        print(x.shape)\n",
    "        conv_matrix = torch.clone(x)\n",
    "        conv_matrix = conv_matrix.reshape(conv_matrix.size(0), 256, 1, 784)\n",
    "        conv_matrix = conv_matrix.transpose(1, 3)\n",
    "        x = F.avg_pool2d(x, kernel_size=28, stride=28)\n",
    "        x = x.view(x.size(0), -1)\n",
    "        x = torch.tanh(self.fc1(x))\n",
    "        x = self.fc2(x)\n",
    "        x = torch.sigmoid(x).unsqueeze(1).unsqueeze(1)\n",
    "        x = F.interpolate(x, (1, 784), mode='bilinear', align_corners=True)\n",
    "        x = x.squeeze(1).squeeze(1).unsqueeze(2).unsqueeze(3)\n",
    "        x = x * conv_matrix\n",
    "        x = F.avg_pool2d(x, kernel_size=(1, 256), stride=256)\n",
    "        x = x * 0.1\n",
    "        x = F.softmax(x, dim=1)\n",
    "        x = torch.exp(x)\n",
    "        x = x + 1\n",
    "        x = torch.log(x)\n",
    "        x = x * 4\n",
    "        x = x.squeeze(2).squeeze(2)\n",
    "        return x.reshape(x.size(0), 28, 28)\n"
   ]
  },
  {
   "cell_type": "code",
   "execution_count": 27,
   "metadata": {},
   "outputs": [],
   "source": [
    "class Loss(nn.Module):\n",
    "\n",
    "    def __init__(self):\n",
    "        super(Loss, self).__init__()\n",
    "\n",
    "    def forward(self, tensor):\n",
    "        loss_sum = torch.zeros(1)\n",
    "        indexes = Loss.get_max_index(tensor)\n",
    "        for i in range(len(indexes)):\n",
    "            max_x, max_y = indexes[i]\n",
    "            for j in range(tensor.size(1)):\n",
    "                for k in range(tensor.size(2)):\n",
    "                    loss_sum += ((max_x - j) * (max_x - j) + (max_y - k) * (max_y - k)) * tensor[i, j, k]\n",
    "        return loss_sum\n",
    "    \n",
    "    @staticmethod\n",
    "    def get_max_index(tensor):\n",
    "        shape = tensor.shape\n",
    "        indexes = []\n",
    "        for i in range(shape[0]):\n",
    "            mx = tensor[i, 0, 0]\n",
    "            x, y = 0, 0\n",
    "            for j in range(shape[1]):\n",
    "                for k in range(shape[2]):\n",
    "                    if tensor[i, j, k] > mx:\n",
    "                        mx = tensor[i, j, k]\n",
    "                        x, y = j, k\n",
    "            indexes.append([x, y])\n",
    "        return indexes\n"
   ]
  },
  {
   "cell_type": "code",
   "execution_count": 28,
   "metadata": {},
   "outputs": [],
   "source": [
    "def get_channels(c, data):\n",
    "    return c.layer3(c.layer2(c.layer1(c.maxpool(c.relu(c.bn1(c.conv1(data)))))))"
   ]
  },
  {
   "cell_type": "code",
   "execution_count": 29,
   "metadata": {},
   "outputs": [
    {
     "data": {
      "text/plain": [
       "ResNet(\n",
       "  (conv1): Conv2d(1, 64, kernel_size=(7, 7), stride=(2, 2), padding=(3, 3), bias=False)\n",
       "  (bn1): BatchNorm2d(64, eps=1e-05, momentum=0.1, affine=True, track_running_stats=True)\n",
       "  (relu): ReLU(inplace=True)\n",
       "  (maxpool): MaxPool2d(kernel_size=3, stride=2, padding=1, dilation=1, ceil_mode=False)\n",
       "  (layer1): Sequential(\n",
       "    (0): BasicBlock(\n",
       "      (conv1): Conv2d(64, 64, kernel_size=(3, 3), stride=(1, 1), padding=(1, 1), bias=False)\n",
       "      (bn1): BatchNorm2d(64, eps=1e-05, momentum=0.1, affine=True, track_running_stats=True)\n",
       "      (relu): ReLU(inplace=True)\n",
       "      (conv2): Conv2d(64, 64, kernel_size=(3, 3), stride=(1, 1), padding=(1, 1), bias=False)\n",
       "      (bn2): BatchNorm2d(64, eps=1e-05, momentum=0.1, affine=True, track_running_stats=True)\n",
       "    )\n",
       "    (1): BasicBlock(\n",
       "      (conv1): Conv2d(64, 64, kernel_size=(3, 3), stride=(1, 1), padding=(1, 1), bias=False)\n",
       "      (bn1): BatchNorm2d(64, eps=1e-05, momentum=0.1, affine=True, track_running_stats=True)\n",
       "      (relu): ReLU(inplace=True)\n",
       "      (conv2): Conv2d(64, 64, kernel_size=(3, 3), stride=(1, 1), padding=(1, 1), bias=False)\n",
       "      (bn2): BatchNorm2d(64, eps=1e-05, momentum=0.1, affine=True, track_running_stats=True)\n",
       "    )\n",
       "  )\n",
       "  (layer2): Sequential(\n",
       "    (0): BasicBlock(\n",
       "      (conv1): Conv2d(64, 128, kernel_size=(3, 3), stride=(2, 2), padding=(1, 1), bias=False)\n",
       "      (bn1): BatchNorm2d(128, eps=1e-05, momentum=0.1, affine=True, track_running_stats=True)\n",
       "      (relu): ReLU(inplace=True)\n",
       "      (conv2): Conv2d(128, 128, kernel_size=(3, 3), stride=(1, 1), padding=(1, 1), bias=False)\n",
       "      (bn2): BatchNorm2d(128, eps=1e-05, momentum=0.1, affine=True, track_running_stats=True)\n",
       "      (downsample): Sequential(\n",
       "        (0): Conv2d(64, 128, kernel_size=(1, 1), stride=(2, 2), bias=False)\n",
       "        (1): BatchNorm2d(128, eps=1e-05, momentum=0.1, affine=True, track_running_stats=True)\n",
       "      )\n",
       "    )\n",
       "    (1): BasicBlock(\n",
       "      (conv1): Conv2d(128, 128, kernel_size=(3, 3), stride=(1, 1), padding=(1, 1), bias=False)\n",
       "      (bn1): BatchNorm2d(128, eps=1e-05, momentum=0.1, affine=True, track_running_stats=True)\n",
       "      (relu): ReLU(inplace=True)\n",
       "      (conv2): Conv2d(128, 128, kernel_size=(3, 3), stride=(1, 1), padding=(1, 1), bias=False)\n",
       "      (bn2): BatchNorm2d(128, eps=1e-05, momentum=0.1, affine=True, track_running_stats=True)\n",
       "    )\n",
       "  )\n",
       "  (layer3): Sequential(\n",
       "    (0): BasicBlock(\n",
       "      (conv1): Conv2d(128, 256, kernel_size=(3, 3), stride=(2, 2), padding=(1, 1), bias=False)\n",
       "      (bn1): BatchNorm2d(256, eps=1e-05, momentum=0.1, affine=True, track_running_stats=True)\n",
       "      (relu): ReLU(inplace=True)\n",
       "      (conv2): Conv2d(256, 256, kernel_size=(3, 3), stride=(1, 1), padding=(1, 1), bias=False)\n",
       "      (bn2): BatchNorm2d(256, eps=1e-05, momentum=0.1, affine=True, track_running_stats=True)\n",
       "      (downsample): Sequential(\n",
       "        (0): Conv2d(128, 256, kernel_size=(1, 1), stride=(2, 2), bias=False)\n",
       "        (1): BatchNorm2d(256, eps=1e-05, momentum=0.1, affine=True, track_running_stats=True)\n",
       "      )\n",
       "    )\n",
       "    (1): BasicBlock(\n",
       "      (conv1): Conv2d(256, 256, kernel_size=(3, 3), stride=(1, 1), padding=(1, 1), bias=False)\n",
       "      (bn1): BatchNorm2d(256, eps=1e-05, momentum=0.1, affine=True, track_running_stats=True)\n",
       "      (relu): ReLU(inplace=True)\n",
       "      (conv2): Conv2d(256, 256, kernel_size=(3, 3), stride=(1, 1), padding=(1, 1), bias=False)\n",
       "      (bn2): BatchNorm2d(256, eps=1e-05, momentum=0.1, affine=True, track_running_stats=True)\n",
       "    )\n",
       "  )\n",
       "  (layer4): Sequential(\n",
       "    (0): BasicBlock(\n",
       "      (conv1): Conv2d(256, 512, kernel_size=(3, 3), stride=(2, 2), padding=(1, 1), bias=False)\n",
       "      (bn1): BatchNorm2d(512, eps=1e-05, momentum=0.1, affine=True, track_running_stats=True)\n",
       "      (relu): ReLU(inplace=True)\n",
       "      (conv2): Conv2d(512, 512, kernel_size=(3, 3), stride=(1, 1), padding=(1, 1), bias=False)\n",
       "      (bn2): BatchNorm2d(512, eps=1e-05, momentum=0.1, affine=True, track_running_stats=True)\n",
       "      (downsample): Sequential(\n",
       "        (0): Conv2d(256, 512, kernel_size=(1, 1), stride=(2, 2), bias=False)\n",
       "        (1): BatchNorm2d(512, eps=1e-05, momentum=0.1, affine=True, track_running_stats=True)\n",
       "      )\n",
       "    )\n",
       "    (1): BasicBlock(\n",
       "      (conv1): Conv2d(512, 512, kernel_size=(3, 3), stride=(1, 1), padding=(1, 1), bias=False)\n",
       "      (bn1): BatchNorm2d(512, eps=1e-05, momentum=0.1, affine=True, track_running_stats=True)\n",
       "      (relu): ReLU(inplace=True)\n",
       "      (conv2): Conv2d(512, 512, kernel_size=(3, 3), stride=(1, 1), padding=(1, 1), bias=False)\n",
       "      (bn2): BatchNorm2d(512, eps=1e-05, momentum=0.1, affine=True, track_running_stats=True)\n",
       "    )\n",
       "  )\n",
       "  (avgpool): AdaptiveAvgPool2d(output_size=(1, 1))\n",
       "  (fc): Linear(in_features=512, out_features=6, bias=True)\n",
       ")"
      ]
     },
     "execution_count": 29,
     "metadata": {},
     "output_type": "execute_result"
    }
   ],
   "source": [
    "conv"
   ]
  },
  {
   "cell_type": "code",
   "execution_count": 30,
   "metadata": {},
   "outputs": [],
   "source": [
    "conv = torch.load(conv_model_name)\n",
    "part = Part()\n",
    "loss_fn = Loss()\n",
    "optimizer = torch.optim.Adam(part.parameters(), lr = learning_rate)"
   ]
  },
  {
   "cell_type": "code",
   "execution_count": 31,
   "metadata": {},
   "outputs": [
    {
     "name": "stdout",
     "output_type": "stream",
     "text": [
      "Mon May 17 18:59:28 2021\n",
      "torch.Size([10, 256, 28, 28])\n",
      "torch.Size([10, 256, 28, 28])\n",
      "torch.Size([10, 256, 28, 28])\n",
      "torch.Size([10, 256, 28, 28])\n",
      "torch.Size([10, 256, 28, 28])\n",
      "torch.Size([10, 256, 28, 28])\n",
      "torch.Size([10, 256, 28, 28])\n",
      "torch.Size([10, 256, 28, 28])\n",
      "torch.Size([10, 256, 28, 28])\n",
      "torch.Size([10, 256, 28, 28])\n",
      "torch.Size([10, 256, 28, 28])\n",
      "torch.Size([10, 256, 28, 28])\n",
      "torch.Size([10, 256, 28, 28])\n",
      "torch.Size([10, 256, 28, 28])\n",
      "torch.Size([10, 256, 28, 28])\n",
      "torch.Size([10, 256, 28, 28])\n",
      "torch.Size([10, 256, 28, 28])\n",
      "torch.Size([10, 256, 28, 28])\n",
      "torch.Size([10, 256, 28, 28])\n",
      "torch.Size([8, 256, 28, 28])\n",
      "0 198 121130220.5 [[9, 0], [26, 16], [8, 10], [16, 16], [8, 0], [17, 0], [5, 10], [26, 0]]\n"
     ]
    }
   ],
   "source": [
    "for epoch_number in range(epoch):\n",
    "    running_loss, count, acc = 0., 0, 0.\n",
    "    print(time.asctime())\n",
    "    for img, _ in trainloader:\n",
    "        img = Variable(img)\n",
    "        channels = get_channels(conv, img)\n",
    "        output = part(channels)\n",
    "        optimizer.zero_grad()\n",
    "        loss = loss_fn(output)\n",
    "        loss.backward()\n",
    "        optimizer.step()\n",
    "        running_loss += loss.item()\n",
    "        count += img.size(0)\n",
    "    print(epoch_number, count, running_loss, Loss.get_max_index(output))"
   ]
  },
  {
   "cell_type": "code",
   "execution_count": 21,
   "metadata": {},
   "outputs": [],
   "source": [
    "torch.save(part, save_part_name)"
   ]
  },
  {
   "cell_type": "code",
   "execution_count": 24,
   "metadata": {},
   "outputs": [
    {
     "name": "stdout",
     "output_type": "stream",
     "text": [
      "torch.Size([10, 784, 1, 1]) torch.Size([10, 784, 1, 256])\n",
      "torch.Size([10, 784, 1, 256])\n",
      "10 [[17, 0], [19, 0], [22, 14], [10, 0], [11, 14], [17, 8], [18, 12], [17, 0], [11, 14], [25, 23]]\n",
      "torch.Size([10, 784, 1, 1]) torch.Size([10, 784, 1, 256])\n",
      "torch.Size([10, 784, 1, 256])\n",
      "20 [[19, 15], [22, 13], [20, 13], [25, 8], [10, 0], [13, 18], [22, 17], [19, 21], [13, 2], [17, 15]]\n",
      "torch.Size([10, 784, 1, 1]) torch.Size([10, 784, 1, 256])\n",
      "torch.Size([10, 784, 1, 256])\n",
      "30 [[20, 13], [10, 5], [25, 0], [26, 18], [18, 0], [19, 0], [26, 0], [21, 18], [23, 20], [7, 0]]\n",
      "torch.Size([10, 784, 1, 1]) torch.Size([10, 784, 1, 256])\n",
      "torch.Size([10, 784, 1, 256])\n",
      "40 [[17, 0], [20, 0], [16, 0], [10, 0], [21, 8], [15, 0], [20, 15], [17, 0], [18, 18], [17, 7]]\n"
     ]
    }
   ],
   "source": [
    "count=0\n",
    "for img, _ in testloader:\n",
    "    img = Variable(img)\n",
    "    channels = get_channels(conv, img)\n",
    "    output = part(channels)\n",
    "    count += img.size(0)\n",
    "    print(count, Loss.get_max_index(output))"
   ]
  }
 ],
 "metadata": {
  "kernelspec": {
   "display_name": "Python 3",
   "language": "python",
   "name": "python3"
  },
  "language_info": {
   "codemirror_mode": {
    "name": "ipython",
    "version": 3
   },
   "file_extension": ".py",
   "mimetype": "text/x-python",
   "name": "python",
   "nbconvert_exporter": "python",
   "pygments_lexer": "ipython3",
   "version": "3.8.5"
  }
 },
 "nbformat": 4,
 "nbformat_minor": 4
}
