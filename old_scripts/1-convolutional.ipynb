{
 "cells": [
  {
   "cell_type": "code",
   "execution_count": 1,
   "metadata": {},
   "outputs": [],
   "source": [
    "import time\n",
    "import torch.optim\n",
    "import torch.nn as nn\n",
    "from torchvision import models\n",
    "from torch.autograd import Variable\n",
    "from datasets.dataset import CUBDataset\n",
    "from torch.utils.data import DataLoader\n",
    "import matplotlib.pyplot as plt\n",
    "import time"
   ]
  },
  {
   "cell_type": "code",
   "execution_count": 2,
   "metadata": {},
   "outputs": [],
   "source": [
    "learning_rate = 1e-3\n",
    "input_channels = 1\n",
    "output_features = 6\n",
    "epoch = 1\n",
    "save_model_name = 'models/resnet.pth'"
   ]
  },
  {
   "cell_type": "code",
   "execution_count": 3,
   "metadata": {},
   "outputs": [],
   "source": [
    "trainset = CUBDataset()\n",
    "trainloader = DataLoader(dataset=trainset, batch_size=10, shuffle=True)\n",
    "testset = CUBDataset(is_test = True)\n",
    "testloader = DataLoader(dataset=testset, batch_size=10, shuffle=True)"
   ]
  },
  {
   "cell_type": "code",
   "execution_count": 5,
   "metadata": {},
   "outputs": [],
   "source": [
    "#conv = torch.hub.load('pytorch/vision:v0.9.0', 'vgg19', pretrained=True)\n",
    "#conv.eval()\n",
    "conv = models.resnet18()\n",
    "conv.conv1 = nn.Conv2d(input_channels, 64, kernel_size=(7, 7), stride=(2, 2), padding=(3, 3), bias=False)\n",
    "conv.fc = nn.Linear(in_features=512, out_features=output_features, bias=True)\n",
    "\n",
    "loss_fn = nn.CrossEntropyLoss()\n",
    "optimizer = torch.optim.Adam(conv.parameters(), lr=learning_rate)"
   ]
  },
  {
   "cell_type": "code",
   "execution_count": 5,
   "metadata": {},
   "outputs": [
    {
     "name": "stdout",
     "output_type": "stream",
     "text": [
      "10 4.353150367736816\n",
      "20 3.571099281311035\n",
      "30 3.606004238128662\n",
      "40 3.5511584281921387\n",
      "50 3.4439401626586914\n",
      "60 3.501784324645996\n",
      "70 3.598034143447876\n",
      "80 3.71821928024292\n",
      "90 3.6109979152679443\n",
      "100 3.507758378982544\n",
      "110 3.439464569091797\n",
      "120 3.3860960006713867\n",
      "130 3.328735113143921\n",
      "140 3.427983045578003\n",
      "150 3.4311516284942627\n",
      "160 3.4838194847106934\n",
      "170 3.5970335006713867\n",
      "180 3.527223825454712\n",
      "190 3.3950650691986084\n",
      "198 2.795151948928833\n",
      "0 198 35.40801751613617 0.30303030303030304\n"
     ]
    }
   ],
   "source": [
    "epoch_loss = list()\n",
    "\n",
    "for epoch_number in range(epoch):\n",
    "    running_loss, count, acc = 0., 0, 0.\n",
    "    for img, label in trainloader:\n",
    "        t = time.time()\n",
    "        img = Variable(img)\n",
    "        label = Variable(label).type(torch.long)\n",
    "        output = conv(img)\n",
    "        optimizer.zero_grad()\n",
    "        loss = loss_fn(output, label)\n",
    "        loss.backward()\n",
    "        optimizer.step()\n",
    "        running_loss += loss.item()\n",
    "        acc += (torch.max(output, dim=1)[1]==label).sum()\n",
    "        count += img.size(0)\n",
    "        print(count, time.time() - t)\n",
    "    print(epoch_number, count, running_loss, int(acc)/count)\n",
    "    epoch_loss.append(running_loss)"
   ]
  },
  {
   "cell_type": "code",
   "execution_count": null,
   "metadata": {},
   "outputs": [],
   "source": [
    "plt.plot(range(epoch), epoch_loss)\n",
    "plt.xlabel(\"epochs\")\n",
    "plt.ylabel(\"loss\")\n",
    "plt.show()"
   ]
  },
  {
   "cell_type": "code",
   "execution_count": 6,
   "metadata": {},
   "outputs": [],
   "source": [
    "torch.save(conv, save_model_name)"
   ]
  },
  {
   "cell_type": "code",
   "execution_count": null,
   "metadata": {},
   "outputs": [],
   "source": [
    "count, acc = 0, 0.\n",
    "for img, label in testloader:\n",
    "    img = Variable(img)\n",
    "    label = Variable(label)\n",
    "    output = conv(img)\n",
    "    acc += (torch.max(output, dim=1)[1] == label).sum()\n",
    "    count += img.size(0)\n",
    "print(count, running_loss, int(acc)/count)"
   ]
  },
  {
   "cell_type": "code",
   "execution_count": null,
   "metadata": {},
   "outputs": [],
   "source": []
  }
 ],
 "metadata": {
  "kernelspec": {
   "display_name": "Python 3",
   "language": "python",
   "name": "python3"
  },
  "language_info": {
   "codemirror_mode": {
    "name": "ipython",
    "version": 3
   },
   "file_extension": ".py",
   "mimetype": "text/x-python",
   "name": "python",
   "nbconvert_exporter": "python",
   "pygments_lexer": "ipython3",
   "version": "3.8.5"
  }
 },
 "nbformat": 4,
 "nbformat_minor": 2
}
